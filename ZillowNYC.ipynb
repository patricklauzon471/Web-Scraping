{
 "cells": [
  {
   "cell_type": "code",
   "execution_count": 1,
   "id": "03cff8fc-7d8f-4418-aaf0-79bfc3411403",
   "metadata": {},
   "outputs": [],
   "source": [
    "from bs4 import BeautifulSoup\n",
    "import requests\n",
    "import pandas as pd\n",
    "import matplotlib.pyplot as plt\n",
    "import numpy as np"
   ]
  },
  {
   "cell_type": "code",
   "execution_count": 2,
   "id": "1aad1f1e-7603-4402-a4a0-a23d5424bb3a",
   "metadata": {},
   "outputs": [],
   "source": [
    "pages = list(range(1,20))"
   ]
  },
  {
   "cell_type": "code",
   "execution_count": 3,
   "id": "ca511345-3774-486c-834e-a23f990ac0f8",
   "metadata": {},
   "outputs": [],
   "source": [
    "url_start = 'https://www.zillow.com/manhattan-new-york-ny/{}'"
   ]
  },
  {
   "cell_type": "code",
   "execution_count": 4,
   "id": "5d47a563-ae4f-495c-8dbb-2a721eb0dd2a",
   "metadata": {},
   "outputs": [],
   "source": [
    "for page in pages:\n",
    "    url = url_start.format(page)"
   ]
  },
  {
   "cell_type": "code",
   "execution_count": 5,
   "id": "615de76d-f6ae-4100-bf4b-a3ffd77ed927",
   "metadata": {},
   "outputs": [],
   "source": [
    "html = requests.get(url)"
   ]
  },
  {
   "cell_type": "code",
   "execution_count": 6,
   "id": "516d233b-7478-41aa-b7ad-38bfb93e288e",
   "metadata": {},
   "outputs": [],
   "source": [
    "soup = BeautifulSoup(html.text, 'html.parser')"
   ]
  },
  {
   "cell_type": "code",
   "execution_count": 7,
   "id": "1640c8cc-0ae5-40b6-a21b-b0b2a76f9781",
   "metadata": {},
   "outputs": [],
   "source": [
    "from selenium import webdriver"
   ]
  },
  {
   "cell_type": "code",
   "execution_count": 8,
   "id": "6e2eb8f2-9035-49c3-b4ca-be9d6994b160",
   "metadata": {},
   "outputs": [
    {
     "name": "stderr",
     "output_type": "stream",
     "text": [
      "/var/folders/dh/xqglv3zd539b47qqfgptngm00000gn/T/ipykernel_74628/2475239834.py:1: DeprecationWarning: executable_path has been deprecated, please pass in a Service object\n",
      "  driver = webdriver.Chrome(executable_path=\"/Users/patricklauzon/Downloads/chromedriver\")\n"
     ]
    }
   ],
   "source": [
    "driver = webdriver.Chrome(executable_path=\"/Users/patricklauzon/Downloads/chromedriver\")"
   ]
  },
  {
   "cell_type": "code",
   "execution_count": 9,
   "id": "dc76be3b-12e1-481a-b4cc-9609d2c4106a",
   "metadata": {},
   "outputs": [],
   "source": [
    "driver.get(url)"
   ]
  },
  {
   "cell_type": "code",
   "execution_count": 10,
   "id": "e7dc1292-ac8e-45a8-991f-d33fa6a9e930",
   "metadata": {},
   "outputs": [],
   "source": [
    "driver.execute_script(\"window.scrollTo(1, 10000)\")"
   ]
  },
  {
   "cell_type": "code",
   "execution_count": 11,
   "id": "15368deb-65bd-43f5-af6a-79b5cd6610ba",
   "metadata": {},
   "outputs": [],
   "source": [
    "html = driver.page_source"
   ]
  },
  {
   "cell_type": "code",
   "execution_count": 12,
   "id": "893c9890-e826-4b1e-a25f-9c07c0a6e318",
   "metadata": {},
   "outputs": [],
   "source": [
    "soup = BeautifulSoup(html, 'html.parser')"
   ]
  },
  {
   "cell_type": "code",
   "execution_count": 13,
   "id": "63491433-059d-40db-af84-7bbf9797a4ac",
   "metadata": {},
   "outputs": [
    {
     "name": "stdout",
     "output_type": "stream",
     "text": [
      "122 E 102nd St APT 4B, New York, NY 10029\n",
      "100 W 57th St #19K, New York, NY 10019\n",
      "87 Saint Marks Pl APT C, New York, NY 10009\n",
      "1009 5th Ave, New York, NY 10028\n",
      "100 W 57th St APT 3I, New York, NY 10019\n",
      "545 W End Ave, New York, NY 10024\n",
      "51 E 90th St #1B, New York, NY 10128\n",
      "217 W 57th St #PH, New York, NY 10019\n",
      "130 W 16th St APT 53, New York, NY 10011\n",
      "944 5th Ave FLOOR 6, New York, NY 10021\n",
      "100 W 57th St #18N, New York, NY 10019\n",
      "280 W 12th St APT 1E, New York, NY 10014\n",
      "2 Park Pl, New York, NY 10007\n",
      "129 E 102nd St APT 5A, New York, NY 10029\n",
      "118 W 123rd St APT 62, New York, NY 10027\n",
      "206 E 90th St APT 2E, New York, NY 10128\n",
      "205 E 63rd St #11FE, New York, NY 10065\n",
      "164 W 79th St APT 1D, New York, NY 10024\n",
      "137 E 66th St, New York, NY 10065\n",
      "100 W 57th St UNIT 4JK, New York, NY 10019\n",
      "56 W 119th St APT 3C, New York, NY 10026\n",
      "405 W 23rd St APT 9D, New York, NY 10011\n",
      "975 Park Ave #8D, New York, NY 10028\n",
      "53 W 53rd St PENTHOUSE 76, New York, NY 10019\n",
      "67 Hudson St, New York, NY 10013\n",
      "305 E 83rd St APT 1E, New York, NY 10028\n",
      "420 E 51st St APT 14E, New York, NY 10022\n",
      "10 E 64th St, New York, NY 10065\n",
      "293 Lafayette St PENTHOUSE IV, New York, NY 10012\n",
      "180 88th St, New York, NY 10128\n",
      "424 E 115th St #3A, Manhattan, NY 10029\n",
      "609 Columbus Ave APT 14T, New York, NY 10024\n",
      "60 W 70th St APT 4, New York, NY 10023\n",
      "217 W 57th St #107/108, New York, NY 10019\n",
      "50 West St #2, New York, NY 10006\n",
      "26 Washington Sq N, New York, NY 10011\n",
      "80 W Washington Plce, New York, NY 10011\n",
      "1355 1st Ave, New York, NY 10021\n",
      "60 Collister St APT 4A, New York, NY 10013\n",
      "515 18th St APT 1203, New York, NY 10011\n"
     ]
    }
   ],
   "source": [
    "addresses = soup.find_all('address')\n",
    "for a in addresses:\n",
    "    address = a.text\n",
    "    print(address)"
   ]
  },
  {
   "cell_type": "code",
   "execution_count": 14,
   "id": "543bda39-f26b-44f5-a1d4-ff6a903b786d",
   "metadata": {},
   "outputs": [
    {
     "name": "stdout",
     "output_type": "stream",
     "text": [
      "$225,000\n",
      "$150,000\n",
      "$199,000\n",
      "$80,000,000\n",
      "$150,000\n",
      "$499,000\n",
      "$299,000\n",
      "$250,000,000\n",
      "$485,000\n",
      "$19,750,000\n",
      "$218,000\n",
      "$395,000\n",
      "$59,000,000\n",
      "$285,000\n",
      "$350,000\n",
      "$435,000\n",
      "$999,995\n",
      "$850,000\n",
      "$770,000\n",
      "$500,000\n",
      "$190,000\n",
      "$445,000\n",
      "$1,600,000\n",
      "$63,815,000\n",
      "$2,895,000\n",
      "$375,000\n",
      "$439,000\n",
      "$26,500,000\n",
      "$35,000,000\n",
      "$29,000,000\n",
      "$110,000\n",
      "$795,000\n",
      "$499,000\n",
      "$175,000,000\n",
      "$29,500,000\n",
      "$29,950,000\n",
      "$22,500,000\n",
      "$55,000,000\n",
      "$26,950,000\n",
      "$3,895,000\n"
     ]
    }
   ],
   "source": [
    "prices = soup.find_all('div',class_='StyledPropertyCardDataArea-c11n-8-85-1__sc-yipmu-0 bqsBln')\n",
    "for p in prices:\n",
    "    price = p.text\n",
    "    print(price)"
   ]
  },
  {
   "cell_type": "code",
   "execution_count": 15,
   "id": "e7ec2688-8a7e-4979-bf06-69c4795d6ddf",
   "metadata": {},
   "outputs": [
    {
     "name": "stdout",
     "output_type": "stream",
     "text": [
      "2\n",
      "1\n",
      "Studio\n",
      "8\n",
      "Studio\n",
      "2\n",
      "2\n",
      "7\n",
      "1\n",
      "5\n",
      "1\n",
      "1\n",
      "3\n",
      "1\n",
      "2\n",
      "2\n",
      "3\n",
      "3\n",
      "1\n",
      "3\n",
      "1\n",
      "Studio\n",
      "3\n",
      "4\n",
      "2\n",
      "Studio\n",
      "2\n",
      "5\n",
      "4\n",
      "5\n",
      "Studio\n",
      "3\n",
      "Studio\n",
      "7\n",
      "5\n",
      "10\n",
      "6\n",
      "8\n",
      "6\n",
      "2\n"
     ]
    }
   ],
   "source": [
    "home = soup.find_all('div',class_='StyledPropertyCardDataArea-c11n-8-85-1__sc-yipmu-0 gxlfal')\n",
    "for h in home:\n",
    "    bedroom = h.find_all('b')[0].text\n",
    "    bathroom = h.find_all('b')[1].text\n",
    "    sqft = h.find_all('b')[2].text\n",
    "    print(bedroom)\n"
   ]
  }
 ],
 "metadata": {
  "kernelspec": {
   "display_name": "Python 3 (ipykernel)",
   "language": "python",
   "name": "python3"
  },
  "language_info": {
   "codemirror_mode": {
    "name": "ipython",
    "version": 3
   },
   "file_extension": ".py",
   "mimetype": "text/x-python",
   "name": "python",
   "nbconvert_exporter": "python",
   "pygments_lexer": "ipython3",
   "version": "3.10.8"
  }
 },
 "nbformat": 4,
 "nbformat_minor": 5
}
